{
 "cells": [
  {
   "cell_type": "markdown",
   "id": "17efe3c0-107a-470d-8577-7f67e183cc10",
   "metadata": {},
   "source": [
    "# question 1\n",
    "* - It is an arithmatic operator for multiplication\n",
    "\"hello\"-it is a string which is a combination of characters\n",
    "-87.8:- it is a negative floating point number\n",
    "/ :- division operator\n",
    "+ :- addition operator\n",
    "6 :- integer"
   ]
  },
  {
   "cell_type": "code",
   "execution_count": null,
   "id": "52bf1cbf-d8c7-4fc2-bf93-8a1c7f51faac",
   "metadata": {},
   "outputs": [],
   "source": [
    "#question 2\n",
    "variables are containers for storing values.variables are heterogenous i.e \n",
    "it accepts integer,string,floating point,lists,tuples,set,dict etc,\n",
    "where as string is one kind of value assigned to a variable  that contains combination of characters represented in \"\" or '' or \"\"\".\n"
   ]
  },
  {
   "cell_type": "code",
   "execution_count": null,
   "id": "bf08a57b-b23c-43d5-9bce-96248e9c9c02",
   "metadata": {},
   "outputs": [],
   "source": [
    "#question 3\n",
    "Three different data types are lists,tuples,string...etc"
   ]
  },
  {
   "cell_type": "code",
   "execution_count": null,
   "id": "77c77f3c-ce42-4761-ac3f-75abf38aec61",
   "metadata": {},
   "outputs": [],
   "source": [
    "# question 4\n",
    "An expression is made up of numbers,variables,assignment operator(=),arithmetic operators(+,-,*,/),coefficient,constant values,exponent.\n",
    "The expression  will help us to get single value."
   ]
  },
  {
   "cell_type": "code",
   "execution_count": null,
   "id": "fb4d0ffd-dead-4198-a88d-753a627e3678",
   "metadata": {},
   "outputs": [],
   "source": [
    "#questin 5\n",
    "spam = 10\n",
    "The above one is statement.\n",
    "because expression evaluates a value\n",
    "EXAMPLE: a+b is an expression\n",
    "         a = b+c is a statement"
   ]
  },
  {
   "cell_type": "code",
   "execution_count": null,
   "id": "460a00f8-f343-43f6-af44-be17361d3a96",
   "metadata": {},
   "outputs": [],
   "source": [
    "#question 6\n",
    "bacon = 22\n",
    "bacon + 1\n",
    "after running this we get output as 23"
   ]
  },
  {
   "cell_type": "code",
   "execution_count": null,
   "id": "e575f7cd-b87d-4ac5-9a1e-99dea2c50bc5",
   "metadata": {},
   "outputs": [],
   "source": [
    "# quetion 7\n",
    "\"spam\"+\"spamspam\" output is \"spamspamspam\"\n",
    "'spam' * 3 output is \"spamspamspam\""
   ]
  },
  {
   "cell_type": "code",
   "execution_count": null,
   "id": "d68db0c7-7fdd-480e-81ed-578d8e94d9e8",
   "metadata": {},
   "outputs": [],
   "source": [
    "# question 8\n",
    "if variable is eggs it is valid bcoz variable may contain alphabets from a-z Lower or upper \n",
    "but it should not start with digits.\n",
    "so eggs is valid and 100 is invalid"
   ]
  },
  {
   "cell_type": "code",
   "execution_count": null,
   "id": "979214b5-974a-4a67-a32d-fa55193e01a6",
   "metadata": {},
   "outputs": [],
   "source": [
    "# question 9\n",
    "str() for string\n",
    "int() for integer\n",
    "float() for floating number"
   ]
  },
  {
   "cell_type": "code",
   "execution_count": null,
   "id": "4a52ab99-5799-459e-bb66-13a08c7ccdf3",
   "metadata": {},
   "outputs": [],
   "source": [
    "# question 10\n",
    "'i have eaten'+99+'burritos'\n",
    "the above one shows error because 99 is an integer,it should be given as '99'\n",
    "'i have eaten'+'99'+'burritos' is correct and it is called concatination"
   ]
  }
 ],
 "metadata": {
  "kernelspec": {
   "display_name": "Python 3 (ipykernel)",
   "language": "python",
   "name": "python3"
  },
  "language_info": {
   "codemirror_mode": {
    "name": "ipython",
    "version": 3
   },
   "file_extension": ".py",
   "mimetype": "text/x-python",
   "name": "python",
   "nbconvert_exporter": "python",
   "pygments_lexer": "ipython3",
   "version": "3.10.6"
  }
 },
 "nbformat": 4,
 "nbformat_minor": 5
}
